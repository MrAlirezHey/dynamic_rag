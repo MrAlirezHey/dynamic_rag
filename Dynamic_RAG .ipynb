{
 "cells": [
  {
   "cell_type": "code",
   "execution_count": 76,
   "id": "a6df0d13-7b41-4475-96fd-5ce50dad8aef",
   "metadata": {},
   "outputs": [
    {
     "name": "stderr",
     "output_type": "stream",
     "text": [
      "C:\\Users\\ParsRayaneh\\AppData\\Local\\Temp\\ipykernel_12700\\27494847.py:78: UserWarning: You have not specified a value for the `type` parameter. Defaulting to the 'tuples' format for chatbot messages, but this is deprecated and will be removed in a future version of Gradio. Please set type='messages' instead, which uses openai-style dictionaries with 'role' and 'content' keys.\n",
      "  chatbot_output = gr.Chatbot(height=350)\n"
     ]
    },
    {
     "name": "stdout",
     "output_type": "stream",
     "text": [
      "* Running on local URL:  http://127.0.0.1:7908\n",
      "* To create a public link, set `share=True` in `launch()`.\n"
     ]
    },
    {
     "data": {
      "text/html": [
       "<div><iframe src=\"http://127.0.0.1:7908/\" width=\"100%\" height=\"500\" allow=\"autoplay; camera; microphone; clipboard-read; clipboard-write;\" frameborder=\"0\" allowfullscreen></iframe></div>"
      ],
      "text/plain": [
       "<IPython.core.display.HTML object>"
      ]
     },
     "metadata": {},
     "output_type": "display_data"
    },
    {
     "data": {
      "text/plain": []
     },
     "execution_count": 76,
     "metadata": {},
     "output_type": "execute_result"
    }
   ],
   "source": [
    "import gradio as gr\n",
    "import os\n",
    "from langchain_community.document_loaders import PyPDFLoader\n",
    "from langchain.text_splitter import RecursiveCharacterTextSplitter\n",
    "from langchain_community.vectorstores import Chroma\n",
    "from langchain_openai import OpenAIEmbeddings, ChatOpenAI\n",
    "from langchain.chains import ConversationalRetrievalChain\n",
    "from langchain.memory import ConversationBufferMemory\n",
    "AI_token='****************************' \n",
    "MODEL = \"gpt-4o-mini\"\n",
    "\n",
    "embeddings = OpenAIEmbeddings(base_url='https://api.gapgpt.app/v1', api_key=AI_token)\n",
    "\n",
    "def create_vector_db(pdf_files_list):\n",
    "    \n",
    "    if not pdf_files_list:\n",
    "        return None, gr.update(value=\"upload pdf file\")\n",
    "\n",
    "    all_chunks = []\n",
    "    try:\n",
    "        for pdf_file in pdf_files_list:\n",
    "            loader = PyPDFLoader(pdf_file.name)\n",
    "            documents = loader.load()\n",
    "            text_splitter = RecursiveCharacterTextSplitter(chunk_size=800, chunk_overlap=150)\n",
    "            chunks = text_splitter.split_documents(documents=documents)\n",
    "            all_chunks.extend(chunks)\n",
    "\n",
    "\n",
    "        vector_store = Chroma.from_documents(documents=all_chunks, embedding=embeddings)\n",
    "        \n",
    "        return vector_store, gr.update(value=\"✅\")\n",
    "\n",
    "    except Exception as e:\n",
    "        return None, gr.update(value=f\"error: {e}\")\n",
    "\n",
    "\n",
    "def chat_response(message, chat_history, vector_store):\n",
    "    if vector_store is None:\n",
    "        chat_history.append((message, \"First upload pdf file\"))\n",
    "        return \"\", chat_history\n",
    "\n",
    "    llm = ChatOpenAI(base_url='https://api.gapgpt.app/v1', api_key=AI_token, temperature=0.7, model=MODEL)\n",
    "\n",
    "    retriver=MultiQueryRetriever.from_llm(llm=llm,\n",
    "                                         retriever=vector_store.as_retriever())\n",
    "\n",
    "    conversation_chain = ConversationalRetrievalChain.from_llm(\n",
    "        llm=llm,\n",
    "        retriever=retriver,\n",
    "        memory=ConversationBufferMemory(memory_key='chat_history', return_messages=True)\n",
    "    )\n",
    "\n",
    "    result = conversation_chain.invoke({\"question\": message})\n",
    "\n",
    "    chat_history.append((message, result['answer']))\n",
    "\n",
    "    return \"\", chat_history\n",
    "\n",
    "\n",
    "with gr.Blocks(theme=gr.themes.Citrus()) as ui:\n",
    "    gr.Markdown(\"<h1 style='text-align: center;'>🤖 RAG Chatbot 🤖</h1>\")\n",
    "    \n",
    "  \n",
    "    vector_store_state = gr.State(None)\n",
    "\n",
    "    with gr.Row():\n",
    "        with gr.Column(scale=1):\n",
    "            file_input = gr.File(\n",
    "                label='Upload your pdf file',\n",
    "                file_types=['.pdf'],\n",
    "                file_count='multiple',\n",
    "                height=300\n",
    "            )\n",
    "            create_button = gr.Button('Build vector', variant=\"primary\")\n",
    "            status_output = gr.Textbox(label=\"status\", interactive=False)\n",
    "\n",
    "        with gr.Column(scale=2):\n",
    "            chatbot_output = gr.Chatbot(height=350)\n",
    "            entry_input = gr.Textbox(label=\"Press enter\")\n",
    "\n",
    "\n",
    "    create_button.click(\n",
    "        fn=create_vector_db,\n",
    "        inputs=[file_input],\n",
    "        outputs=[vector_store_state, status_output]\n",
    "    )\n",
    "\n",
    "  \n",
    "    entry_input.submit(\n",
    "        fn=chat_response,\n",
    "        inputs=[entry_input, chatbot_output, vector_store_state],\n",
    "        outputs=[entry_input, chatbot_output]\n",
    "    )\n",
    "\n",
    "ui.launch()"
   ]
  },
  {
   "cell_type": "code",
   "execution_count": null,
   "id": "b60623e7-b9d5-477c-b9b5-ce1eac18fc63",
   "metadata": {},
   "outputs": [],
   "source": []
  }
 ],
 "metadata": {
  "kernelspec": {
   "display_name": "Python 3 (ipykernel)",
   "language": "python",
   "name": "python3"
  },
  "language_info": {
   "codemirror_mode": {
    "name": "ipython",
    "version": 3
   },
   "file_extension": ".py",
   "mimetype": "text/x-python",
   "name": "python",
   "nbconvert_exporter": "python",
   "pygments_lexer": "ipython3",
   "version": "3.11.13"
  }
 },
 "nbformat": 4,
 "nbformat_minor": 5
}
